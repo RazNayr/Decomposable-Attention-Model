{
 "cells": [
  {
   "cell_type": "markdown",
   "id": "naughty-imperial",
   "metadata": {},
   "source": [
    "# Data Retrieval\n",
    "\n",
    "<font color='green'>This notebook is responsible for retrieving the SNLI dataset if it hasn't already been retrieved. It is also responsible for unzipping the training, validation and test files in text format.</font>"
   ]
  },
  {
   "cell_type": "code",
   "execution_count": 1,
   "id": "original-colombia",
   "metadata": {},
   "outputs": [],
   "source": [
    "import os\n",
    "import zipfile\n",
    "from six.moves.urllib.request import urlretrieve"
   ]
  },
  {
   "cell_type": "code",
   "execution_count": 2,
   "id": "descending-bermuda",
   "metadata": {},
   "outputs": [],
   "source": [
    "dataset_dir = \"dataset/\"\n",
    "snli_zip_file = \"snli_1.0.zip\"\n",
    "snli_train_file = \"snli_1.0_train.txt\"\n",
    "snli_test_file = \"snli_1.0_test.txt\"\n",
    "snli_val_file = \"snli_1.0_dev.txt\""
   ]
  },
  {
   "cell_type": "code",
   "execution_count": 3,
   "id": "medieval-harvey",
   "metadata": {},
   "outputs": [],
   "source": [
    "# Create dataset folder\n",
    "if not os.path.exists(\"dataset\"):\n",
    "    os.mkdir(\"dataset\")\n",
    "    \n",
    "# Retrieve SNLI dataset - 100 MB\n",
    "if not os.path.exists(dataset_dir+snli_zip_file):\n",
    "    urlretrieve (\"https://nlp.stanford.edu/projects/snli/snli_1.0.zip\", dataset_dir+snli_zip_file)"
   ]
  },
  {
   "cell_type": "code",
   "execution_count": 4,
   "id": "recreational-tennessee",
   "metadata": {},
   "outputs": [],
   "source": [
    "def unzip_files(zip_file, files_to_unzip):\n",
    "    '''\n",
    "        Unzip train, test and validation txt files if not already done\n",
    "    '''\n",
    "    for file_to_unzip in files_to_unzip:\n",
    "        \n",
    "        if not os.path.exists(dataset_dir+file_to_unzip):\n",
    "            with open(dataset_dir+file_to_unzip, 'wb') as out_file:\n",
    "                with zipfile.ZipFile(zip_file) as zipped:\n",
    "                    for info in zipped.infolist():\n",
    "                        if file_to_unzip in info.filename:\n",
    "                            with zipped.open(info) as requested_file:\n",
    "                                out_file.write(requested_file.read())\n",
    "                                break\n",
    "                                \n",
    "files_to_unzip = [\n",
    "    snli_train_file,\n",
    "    snli_test_file,\n",
    "    snli_val_file,\n",
    "]\n",
    "\n",
    "unzip_files(dataset_dir+snli_zip_file, files_to_unzip)"
   ]
  }
 ],
 "metadata": {
  "kernelspec": {
   "display_name": "Python 3",
   "language": "python",
   "name": "python3"
  },
  "language_info": {
   "codemirror_mode": {
    "name": "ipython",
    "version": 3
   },
   "file_extension": ".py",
   "mimetype": "text/x-python",
   "name": "python",
   "nbconvert_exporter": "python",
   "pygments_lexer": "ipython3",
   "version": "3.6.12"
  }
 },
 "nbformat": 4,
 "nbformat_minor": 5
}
