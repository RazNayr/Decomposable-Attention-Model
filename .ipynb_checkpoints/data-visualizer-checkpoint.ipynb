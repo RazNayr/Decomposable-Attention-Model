{
 "cells": [
  {
   "cell_type": "markdown",
   "id": "lyric-terrace",
   "metadata": {},
   "source": [
    "# Data Visualisation\n",
    "\n",
    "<font color='green'>This notebook is used to explain some decisions taken when training and testing, by observing the SNLI dataset. The main goal of the other models is not to explain the data being handled, as such, this notebook was created to specifcially carry out this task.</font>\n",
    "\n",
    "---\n",
    "### 1. Data Retrieval and Sanitization\n",
    "1. Training, Validation and Test Set Retrieval\n",
    "2. Text Sanitization\n",
    "3. Label Indexing\n",
    "4. Label Distribution\n",
    "---\n",
    "\n",
    "### 2. Feature Engineering\n",
    "1. Tokenize Text\n",
    "2. Texts to Sequences\n",
    "4. Determination of Max Sequence Length\n",
    "3. Pad Sequences\n",
    "---"
   ]
  },
  {
   "cell_type": "code",
   "execution_count": 1,
   "id": "municipal-physics",
   "metadata": {},
   "outputs": [],
   "source": [
    "# For File Handling\n",
    "import csv\n",
    "import os\n",
    "\n",
    "# For Data\n",
    "import pandas as pd\n",
    "import numpy as np\n",
    "from tensorflow.keras import preprocessing\n",
    "\n",
    "# For Processing\n",
    "import re\n",
    "import nltk\n",
    "import string\n",
    "\n",
    "# For Plotting\n",
    "%matplotlib inline\n",
    "import matplotlib.pyplot as plt\n",
    "import seaborn as sns"
   ]
  },
  {
   "cell_type": "code",
   "execution_count": 2,
   "id": "permanent-scientist",
   "metadata": {},
   "outputs": [],
   "source": [
    "# Data directories\n",
    "dataset_dir = \"dataset\"\n",
    "\n",
    "# SNLI dataset files\n",
    "snli_train_file = \"dataset/snli_1.0_train.txt\"\n",
    "snli_val_file = \"dataset/snli_1.0_dev.txt\"\n",
    "snli_test_file = \"dataset/snli_1.0_test.txt\""
   ]
  },
  {
   "cell_type": "markdown",
   "id": "checked-sussex",
   "metadata": {},
   "source": [
    "# 1. Data Retrieval and Sanitization"
   ]
  },
  {
   "cell_type": "markdown",
   "id": "unnecessary-cradle",
   "metadata": {},
   "source": [
    "### 1. Training, Validation and Test Set Retrieval\n",
    "It was observed that the SNLI dataset consisted of an additional gold label \"-\". This label was set as the placeholder for when no definite label could be determined from the judgements. Since NLI focuses mainly on 3 classes (\"entailment\", \"neutral\", \"contradiction\"), the placeholder had to be handled. One option was to determine the 2 labels which got the same score and override the placeholder with a random one from both. However, this meant that whenever the notebook is reset, the dataset will be slightly different from before which is not ideal when presenting final results. Additionally, one class may be given a higher majority which would effect label frequency and overall prediction. Due to these reasons, such rows were skipped completely and not included."
   ]
  },
  {
   "cell_type": "code",
   "execution_count": 3,
   "id": "guided-authority",
   "metadata": {},
   "outputs": [],
   "source": [
    "try:\n",
    "    assert os.path.exists(dataset_dir)\n",
    "    assert os.path.exists(snli_train_file)\n",
    "    assert os.path.exists(snli_val_file)\n",
    "    assert os.path.exists(snli_test_file)\n",
    "except:\n",
    "    print(\"Assertion failed: Run dataset-utils.ipynb to initialise dataset files\")"
   ]
  },
  {
   "cell_type": "code",
   "execution_count": 4,
   "id": "stunning-plasma",
   "metadata": {},
   "outputs": [],
   "source": [
    "def get_data(data_file):\n",
    "    \n",
    "    if os.path.exists(data_file):\n",
    "        with open(data_file,\"r\") as open_file:\n",
    "            csv_file = csv.DictReader(open_file, delimiter='\\t')\n",
    "\n",
    "            premise_sentences = []\n",
    "            hypothesis_sentences = []\n",
    "            gold_labels = []\n",
    "\n",
    "            for row in csv_file:\n",
    "                \n",
    "                # Skip rows if label is not definite\n",
    "                if row[\"gold_label\"] != \"-\":\n",
    "                    premise_sentences.append(row[\"sentence1\"])\n",
    "                    hypothesis_sentences.append(row[\"sentence2\"])\n",
    "                    gold_labels.append(row[\"gold_label\"])\n",
    "\n",
    "            return premise_sentences, hypothesis_sentences, gold_labels\n",
    "\n",
    "\n",
    "train_dict = dict()\n",
    "val_dict = dict()\n",
    "test_dict = dict()\n",
    "\n",
    "# Store data in respective dictionaries\n",
    "train_dict['premise'], train_dict['hypothesis'], train_dict['label'] = get_data(snli_train_file)\n",
    "val_dict['premise'], val_dict['hypothesis'], val_dict['label'] = get_data(snli_val_file)\n",
    "test_dict['premise'], test_dict['hypothesis'], test_dict['label'] = get_data(snli_test_file)\n",
    "\n",
    "# Create Pandas dataframes for each set\n",
    "train_df = pd.DataFrame(train_dict)\n",
    "val_df = pd.DataFrame(val_dict)\n",
    "test_df = pd.DataFrame(test_dict)"
   ]
  },
  {
   "cell_type": "code",
   "execution_count": 5,
   "id": "allied-thunder",
   "metadata": {},
   "outputs": [
    {
     "name": "stdout",
     "output_type": "stream",
     "text": [
      "Length of sets after skipping non definite labels\n",
      "Train set:  549367\n",
      "Validation set:  9842\n",
      "Test set:  9824\n"
     ]
    }
   ],
   "source": [
    "print(\"Length of sets after skipping non definite labels\")\n",
    "print(\"Train set: \",len(train_df))\n",
    "print(\"Validation set: \",len(val_df))\n",
    "print(\"Test set: \",len(test_df))"
   ]
  },
  {
   "cell_type": "code",
   "execution_count": 6,
   "id": "found-peeing",
   "metadata": {},
   "outputs": [
    {
     "name": "stdout",
     "output_type": "stream",
     "text": [
      "Determine if each set has the same number of premises, hypotheses and labels:\n",
      "---\n",
      "Train Set\n",
      "Premise:  549367\n",
      "Hypothesis:  549367\n",
      "Labels:  549367\n",
      "---\n",
      "Validation Set\n",
      "Premise:  9842\n",
      "Hypothesis:  9842\n",
      "Labels:  9842\n",
      "---\n",
      "Test Set\n",
      "Premise:  9824\n",
      "Hypothesis:  9824\n",
      "Labels:  9824\n"
     ]
    }
   ],
   "source": [
    "print(\"Determine if each set has the same number of premises, hypotheses and labels:\")\n",
    "print(\"---\")\n",
    "print(\"Train Set\")\n",
    "print(\"Premise: \",len(train_df['premise']))\n",
    "print(\"Hypothesis: \",len(train_df['hypothesis']))\n",
    "print(\"Labels: \",len(train_df['label']))\n",
    "print(\"---\")\n",
    "print(\"Validation Set\")\n",
    "print(\"Premise: \",len(val_df['premise']))\n",
    "print(\"Hypothesis: \",len(val_df['hypothesis']))\n",
    "print(\"Labels: \",len(val_df['label']))\n",
    "print(\"---\")\n",
    "print(\"Test Set\")\n",
    "print(\"Premise: \",len(test_df['premise']))\n",
    "print(\"Hypothesis: \",len(test_df['hypothesis']))\n",
    "print(\"Labels: \",len(test_df['label']))"
   ]
  },
  {
   "cell_type": "code",
   "execution_count": 7,
   "id": "comprehensive-province",
   "metadata": {},
   "outputs": [
    {
     "data": {
      "text/html": [
       "<div>\n",
       "<style scoped>\n",
       "    .dataframe tbody tr th:only-of-type {\n",
       "        vertical-align: middle;\n",
       "    }\n",
       "\n",
       "    .dataframe tbody tr th {\n",
       "        vertical-align: top;\n",
       "    }\n",
       "\n",
       "    .dataframe thead th {\n",
       "        text-align: right;\n",
       "    }\n",
       "</style>\n",
       "<table border=\"1\" class=\"dataframe\">\n",
       "  <thead>\n",
       "    <tr style=\"text-align: right;\">\n",
       "      <th></th>\n",
       "      <th>premise</th>\n",
       "      <th>hypothesis</th>\n",
       "      <th>label</th>\n",
       "    </tr>\n",
       "  </thead>\n",
       "  <tbody>\n",
       "    <tr>\n",
       "      <th>0</th>\n",
       "      <td>Two women are embracing while holding to go pa...</td>\n",
       "      <td>The sisters are hugging goodbye while holding ...</td>\n",
       "      <td>neutral</td>\n",
       "    </tr>\n",
       "    <tr>\n",
       "      <th>1</th>\n",
       "      <td>Two women are embracing while holding to go pa...</td>\n",
       "      <td>Two woman are holding packages.</td>\n",
       "      <td>entailment</td>\n",
       "    </tr>\n",
       "    <tr>\n",
       "      <th>2</th>\n",
       "      <td>Two women are embracing while holding to go pa...</td>\n",
       "      <td>The men are fighting outside a deli.</td>\n",
       "      <td>contradiction</td>\n",
       "    </tr>\n",
       "    <tr>\n",
       "      <th>3</th>\n",
       "      <td>Two young children in blue jerseys, one with t...</td>\n",
       "      <td>Two kids in numbered jerseys wash their hands.</td>\n",
       "      <td>entailment</td>\n",
       "    </tr>\n",
       "    <tr>\n",
       "      <th>4</th>\n",
       "      <td>Two young children in blue jerseys, one with t...</td>\n",
       "      <td>Two kids at a ballgame wash their hands.</td>\n",
       "      <td>neutral</td>\n",
       "    </tr>\n",
       "    <tr>\n",
       "      <th>...</th>\n",
       "      <td>...</td>\n",
       "      <td>...</td>\n",
       "      <td>...</td>\n",
       "    </tr>\n",
       "    <tr>\n",
       "      <th>9837</th>\n",
       "      <td>A small girl wearing a pink jacket is riding o...</td>\n",
       "      <td>The carousel is moving.</td>\n",
       "      <td>entailment</td>\n",
       "    </tr>\n",
       "    <tr>\n",
       "      <th>9838</th>\n",
       "      <td>A small girl wearing a pink jacket is riding o...</td>\n",
       "      <td>The girl is moving at the speed of light.</td>\n",
       "      <td>contradiction</td>\n",
       "    </tr>\n",
       "    <tr>\n",
       "      <th>9839</th>\n",
       "      <td>A young girl with blue and pink ribbons in her...</td>\n",
       "      <td>People in a water fountain</td>\n",
       "      <td>entailment</td>\n",
       "    </tr>\n",
       "    <tr>\n",
       "      <th>9840</th>\n",
       "      <td>A young girl with blue and pink ribbons in her...</td>\n",
       "      <td>A young girl knits a sweater</td>\n",
       "      <td>contradiction</td>\n",
       "    </tr>\n",
       "    <tr>\n",
       "      <th>9841</th>\n",
       "      <td>A young girl with blue and pink ribbons in her...</td>\n",
       "      <td>A young mother tries to grab her topless child...</td>\n",
       "      <td>neutral</td>\n",
       "    </tr>\n",
       "  </tbody>\n",
       "</table>\n",
       "<p>9842 rows × 3 columns</p>\n",
       "</div>"
      ],
      "text/plain": [
       "                                                premise  \\\n",
       "0     Two women are embracing while holding to go pa...   \n",
       "1     Two women are embracing while holding to go pa...   \n",
       "2     Two women are embracing while holding to go pa...   \n",
       "3     Two young children in blue jerseys, one with t...   \n",
       "4     Two young children in blue jerseys, one with t...   \n",
       "...                                                 ...   \n",
       "9837  A small girl wearing a pink jacket is riding o...   \n",
       "9838  A small girl wearing a pink jacket is riding o...   \n",
       "9839  A young girl with blue and pink ribbons in her...   \n",
       "9840  A young girl with blue and pink ribbons in her...   \n",
       "9841  A young girl with blue and pink ribbons in her...   \n",
       "\n",
       "                                             hypothesis          label  \n",
       "0     The sisters are hugging goodbye while holding ...        neutral  \n",
       "1                       Two woman are holding packages.     entailment  \n",
       "2                  The men are fighting outside a deli.  contradiction  \n",
       "3        Two kids in numbered jerseys wash their hands.     entailment  \n",
       "4              Two kids at a ballgame wash their hands.        neutral  \n",
       "...                                                 ...            ...  \n",
       "9837                            The carousel is moving.     entailment  \n",
       "9838          The girl is moving at the speed of light.  contradiction  \n",
       "9839                         People in a water fountain     entailment  \n",
       "9840                       A young girl knits a sweater  contradiction  \n",
       "9841  A young mother tries to grab her topless child...        neutral  \n",
       "\n",
       "[9842 rows x 3 columns]"
      ]
     },
     "execution_count": 7,
     "metadata": {},
     "output_type": "execute_result"
    }
   ],
   "source": [
    "val_df"
   ]
  },
  {
   "cell_type": "markdown",
   "id": "gothic-paris",
   "metadata": {},
   "source": [
    "### 2. Text Sanitization\n",
    "Sanitization was only done to remove punctuation and set the text to lower case. Future research could experiment with performing additional processes such as:\n",
    "- Lemmatization\n",
    "- Stop Word Removal\n",
    "- Stemming"
   ]
  },
  {
   "cell_type": "code",
   "execution_count": 8,
   "id": "studied-series",
   "metadata": {},
   "outputs": [],
   "source": [
    "def sanitize_text(text):\n",
    "\n",
    "    # Remove punctuation and lower case\n",
    "    sanitized_text = re.sub(r'[^\\w\\s]', '', str(text).lower().strip()) \n",
    "    return sanitized_text\n",
    "\n",
    "# Clean Train data\n",
    "train_df[\"premise_clean\"] = train_df[\"premise\"].apply(lambda x: sanitize_text(x))\n",
    "train_df[\"hypothesis_clean\"] = train_df[\"hypothesis\"].apply(lambda x: sanitize_text(x))\n",
    "\n",
    "# Clean Validation data\n",
    "val_df[\"premise_clean\"] = val_df[\"premise\"].apply(lambda x: sanitize_text(x))\n",
    "val_df[\"hypothesis_clean\"] = val_df[\"hypothesis\"].apply(lambda x: sanitize_text(x))\n",
    "\n",
    "# Clean Test data\n",
    "test_df[\"premise_clean\"] = test_df[\"premise\"].apply(lambda x: sanitize_text(x))\n",
    "test_df[\"hypothesis_clean\"] = test_df[\"hypothesis\"].apply(lambda x: sanitize_text(x))"
   ]
  },
  {
   "cell_type": "code",
   "execution_count": 9,
   "id": "independent-dietary",
   "metadata": {},
   "outputs": [
    {
     "data": {
      "text/html": [
       "<div>\n",
       "<style scoped>\n",
       "    .dataframe tbody tr th:only-of-type {\n",
       "        vertical-align: middle;\n",
       "    }\n",
       "\n",
       "    .dataframe tbody tr th {\n",
       "        vertical-align: top;\n",
       "    }\n",
       "\n",
       "    .dataframe thead th {\n",
       "        text-align: right;\n",
       "    }\n",
       "</style>\n",
       "<table border=\"1\" class=\"dataframe\">\n",
       "  <thead>\n",
       "    <tr style=\"text-align: right;\">\n",
       "      <th></th>\n",
       "      <th>premise</th>\n",
       "      <th>hypothesis</th>\n",
       "      <th>label</th>\n",
       "      <th>premise_clean</th>\n",
       "      <th>hypothesis_clean</th>\n",
       "    </tr>\n",
       "  </thead>\n",
       "  <tbody>\n",
       "    <tr>\n",
       "      <th>0</th>\n",
       "      <td>Two women are embracing while holding to go pa...</td>\n",
       "      <td>The sisters are hugging goodbye while holding ...</td>\n",
       "      <td>neutral</td>\n",
       "      <td>two women are embracing while holding to go pa...</td>\n",
       "      <td>the sisters are hugging goodbye while holding ...</td>\n",
       "    </tr>\n",
       "    <tr>\n",
       "      <th>1</th>\n",
       "      <td>Two women are embracing while holding to go pa...</td>\n",
       "      <td>Two woman are holding packages.</td>\n",
       "      <td>entailment</td>\n",
       "      <td>two women are embracing while holding to go pa...</td>\n",
       "      <td>two woman are holding packages</td>\n",
       "    </tr>\n",
       "    <tr>\n",
       "      <th>2</th>\n",
       "      <td>Two women are embracing while holding to go pa...</td>\n",
       "      <td>The men are fighting outside a deli.</td>\n",
       "      <td>contradiction</td>\n",
       "      <td>two women are embracing while holding to go pa...</td>\n",
       "      <td>the men are fighting outside a deli</td>\n",
       "    </tr>\n",
       "    <tr>\n",
       "      <th>3</th>\n",
       "      <td>Two young children in blue jerseys, one with t...</td>\n",
       "      <td>Two kids in numbered jerseys wash their hands.</td>\n",
       "      <td>entailment</td>\n",
       "      <td>two young children in blue jerseys one with th...</td>\n",
       "      <td>two kids in numbered jerseys wash their hands</td>\n",
       "    </tr>\n",
       "    <tr>\n",
       "      <th>4</th>\n",
       "      <td>Two young children in blue jerseys, one with t...</td>\n",
       "      <td>Two kids at a ballgame wash their hands.</td>\n",
       "      <td>neutral</td>\n",
       "      <td>two young children in blue jerseys one with th...</td>\n",
       "      <td>two kids at a ballgame wash their hands</td>\n",
       "    </tr>\n",
       "    <tr>\n",
       "      <th>...</th>\n",
       "      <td>...</td>\n",
       "      <td>...</td>\n",
       "      <td>...</td>\n",
       "      <td>...</td>\n",
       "      <td>...</td>\n",
       "    </tr>\n",
       "    <tr>\n",
       "      <th>9837</th>\n",
       "      <td>A small girl wearing a pink jacket is riding o...</td>\n",
       "      <td>The carousel is moving.</td>\n",
       "      <td>entailment</td>\n",
       "      <td>a small girl wearing a pink jacket is riding o...</td>\n",
       "      <td>the carousel is moving</td>\n",
       "    </tr>\n",
       "    <tr>\n",
       "      <th>9838</th>\n",
       "      <td>A small girl wearing a pink jacket is riding o...</td>\n",
       "      <td>The girl is moving at the speed of light.</td>\n",
       "      <td>contradiction</td>\n",
       "      <td>a small girl wearing a pink jacket is riding o...</td>\n",
       "      <td>the girl is moving at the speed of light</td>\n",
       "    </tr>\n",
       "    <tr>\n",
       "      <th>9839</th>\n",
       "      <td>A young girl with blue and pink ribbons in her...</td>\n",
       "      <td>People in a water fountain</td>\n",
       "      <td>entailment</td>\n",
       "      <td>a young girl with blue and pink ribbons in her...</td>\n",
       "      <td>people in a water fountain</td>\n",
       "    </tr>\n",
       "    <tr>\n",
       "      <th>9840</th>\n",
       "      <td>A young girl with blue and pink ribbons in her...</td>\n",
       "      <td>A young girl knits a sweater</td>\n",
       "      <td>contradiction</td>\n",
       "      <td>a young girl with blue and pink ribbons in her...</td>\n",
       "      <td>a young girl knits a sweater</td>\n",
       "    </tr>\n",
       "    <tr>\n",
       "      <th>9841</th>\n",
       "      <td>A young girl with blue and pink ribbons in her...</td>\n",
       "      <td>A young mother tries to grab her topless child...</td>\n",
       "      <td>neutral</td>\n",
       "      <td>a young girl with blue and pink ribbons in her...</td>\n",
       "      <td>a young mother tries to grab her topless child...</td>\n",
       "    </tr>\n",
       "  </tbody>\n",
       "</table>\n",
       "<p>9842 rows × 5 columns</p>\n",
       "</div>"
      ],
      "text/plain": [
       "                                                premise  \\\n",
       "0     Two women are embracing while holding to go pa...   \n",
       "1     Two women are embracing while holding to go pa...   \n",
       "2     Two women are embracing while holding to go pa...   \n",
       "3     Two young children in blue jerseys, one with t...   \n",
       "4     Two young children in blue jerseys, one with t...   \n",
       "...                                                 ...   \n",
       "9837  A small girl wearing a pink jacket is riding o...   \n",
       "9838  A small girl wearing a pink jacket is riding o...   \n",
       "9839  A young girl with blue and pink ribbons in her...   \n",
       "9840  A young girl with blue and pink ribbons in her...   \n",
       "9841  A young girl with blue and pink ribbons in her...   \n",
       "\n",
       "                                             hypothesis          label  \\\n",
       "0     The sisters are hugging goodbye while holding ...        neutral   \n",
       "1                       Two woman are holding packages.     entailment   \n",
       "2                  The men are fighting outside a deli.  contradiction   \n",
       "3        Two kids in numbered jerseys wash their hands.     entailment   \n",
       "4              Two kids at a ballgame wash their hands.        neutral   \n",
       "...                                                 ...            ...   \n",
       "9837                            The carousel is moving.     entailment   \n",
       "9838          The girl is moving at the speed of light.  contradiction   \n",
       "9839                         People in a water fountain     entailment   \n",
       "9840                       A young girl knits a sweater  contradiction   \n",
       "9841  A young mother tries to grab her topless child...        neutral   \n",
       "\n",
       "                                          premise_clean  \\\n",
       "0     two women are embracing while holding to go pa...   \n",
       "1     two women are embracing while holding to go pa...   \n",
       "2     two women are embracing while holding to go pa...   \n",
       "3     two young children in blue jerseys one with th...   \n",
       "4     two young children in blue jerseys one with th...   \n",
       "...                                                 ...   \n",
       "9837  a small girl wearing a pink jacket is riding o...   \n",
       "9838  a small girl wearing a pink jacket is riding o...   \n",
       "9839  a young girl with blue and pink ribbons in her...   \n",
       "9840  a young girl with blue and pink ribbons in her...   \n",
       "9841  a young girl with blue and pink ribbons in her...   \n",
       "\n",
       "                                       hypothesis_clean  \n",
       "0     the sisters are hugging goodbye while holding ...  \n",
       "1                        two woman are holding packages  \n",
       "2                   the men are fighting outside a deli  \n",
       "3         two kids in numbered jerseys wash their hands  \n",
       "4               two kids at a ballgame wash their hands  \n",
       "...                                                 ...  \n",
       "9837                             the carousel is moving  \n",
       "9838           the girl is moving at the speed of light  \n",
       "9839                         people in a water fountain  \n",
       "9840                       a young girl knits a sweater  \n",
       "9841  a young mother tries to grab her topless child...  \n",
       "\n",
       "[9842 rows x 5 columns]"
      ]
     },
     "execution_count": 9,
     "metadata": {},
     "output_type": "execute_result"
    }
   ],
   "source": [
    "val_df"
   ]
  },
  {
   "cell_type": "markdown",
   "id": "bound-softball",
   "metadata": {},
   "source": [
    "### 3. Label Indexing"
   ]
  },
  {
   "cell_type": "code",
   "execution_count": 10,
   "id": "supposed-appendix",
   "metadata": {},
   "outputs": [],
   "source": [
    "label_index = {\n",
    "    \"entailment\":0,\n",
    "    \"neutral\":1,\n",
    "    \"contradiction\":2,\n",
    "}\n",
    "\n",
    "def indexify_label(label):\n",
    "    return label_index[label]\n",
    "\n",
    "train_df[\"label_index\"] = train_df[\"label\"].apply(lambda x: indexify_label(x))\n",
    "val_df[\"label_index\"] = val_df[\"label\"].apply(lambda x: indexify_label(x))\n",
    "test_df[\"label_index\"] = test_df[\"label\"].apply(lambda x: indexify_label(x))"
   ]
  },
  {
   "cell_type": "code",
   "execution_count": 11,
   "id": "activated-mother",
   "metadata": {},
   "outputs": [
    {
     "data": {
      "text/html": [
       "<div>\n",
       "<style scoped>\n",
       "    .dataframe tbody tr th:only-of-type {\n",
       "        vertical-align: middle;\n",
       "    }\n",
       "\n",
       "    .dataframe tbody tr th {\n",
       "        vertical-align: top;\n",
       "    }\n",
       "\n",
       "    .dataframe thead th {\n",
       "        text-align: right;\n",
       "    }\n",
       "</style>\n",
       "<table border=\"1\" class=\"dataframe\">\n",
       "  <thead>\n",
       "    <tr style=\"text-align: right;\">\n",
       "      <th></th>\n",
       "      <th>premise</th>\n",
       "      <th>hypothesis</th>\n",
       "      <th>label</th>\n",
       "      <th>premise_clean</th>\n",
       "      <th>hypothesis_clean</th>\n",
       "      <th>label_index</th>\n",
       "    </tr>\n",
       "  </thead>\n",
       "  <tbody>\n",
       "    <tr>\n",
       "      <th>0</th>\n",
       "      <td>Two women are embracing while holding to go pa...</td>\n",
       "      <td>The sisters are hugging goodbye while holding ...</td>\n",
       "      <td>neutral</td>\n",
       "      <td>two women are embracing while holding to go pa...</td>\n",
       "      <td>the sisters are hugging goodbye while holding ...</td>\n",
       "      <td>1</td>\n",
       "    </tr>\n",
       "    <tr>\n",
       "      <th>1</th>\n",
       "      <td>Two women are embracing while holding to go pa...</td>\n",
       "      <td>Two woman are holding packages.</td>\n",
       "      <td>entailment</td>\n",
       "      <td>two women are embracing while holding to go pa...</td>\n",
       "      <td>two woman are holding packages</td>\n",
       "      <td>0</td>\n",
       "    </tr>\n",
       "    <tr>\n",
       "      <th>2</th>\n",
       "      <td>Two women are embracing while holding to go pa...</td>\n",
       "      <td>The men are fighting outside a deli.</td>\n",
       "      <td>contradiction</td>\n",
       "      <td>two women are embracing while holding to go pa...</td>\n",
       "      <td>the men are fighting outside a deli</td>\n",
       "      <td>2</td>\n",
       "    </tr>\n",
       "    <tr>\n",
       "      <th>3</th>\n",
       "      <td>Two young children in blue jerseys, one with t...</td>\n",
       "      <td>Two kids in numbered jerseys wash their hands.</td>\n",
       "      <td>entailment</td>\n",
       "      <td>two young children in blue jerseys one with th...</td>\n",
       "      <td>two kids in numbered jerseys wash their hands</td>\n",
       "      <td>0</td>\n",
       "    </tr>\n",
       "    <tr>\n",
       "      <th>4</th>\n",
       "      <td>Two young children in blue jerseys, one with t...</td>\n",
       "      <td>Two kids at a ballgame wash their hands.</td>\n",
       "      <td>neutral</td>\n",
       "      <td>two young children in blue jerseys one with th...</td>\n",
       "      <td>two kids at a ballgame wash their hands</td>\n",
       "      <td>1</td>\n",
       "    </tr>\n",
       "    <tr>\n",
       "      <th>...</th>\n",
       "      <td>...</td>\n",
       "      <td>...</td>\n",
       "      <td>...</td>\n",
       "      <td>...</td>\n",
       "      <td>...</td>\n",
       "      <td>...</td>\n",
       "    </tr>\n",
       "    <tr>\n",
       "      <th>9837</th>\n",
       "      <td>A small girl wearing a pink jacket is riding o...</td>\n",
       "      <td>The carousel is moving.</td>\n",
       "      <td>entailment</td>\n",
       "      <td>a small girl wearing a pink jacket is riding o...</td>\n",
       "      <td>the carousel is moving</td>\n",
       "      <td>0</td>\n",
       "    </tr>\n",
       "    <tr>\n",
       "      <th>9838</th>\n",
       "      <td>A small girl wearing a pink jacket is riding o...</td>\n",
       "      <td>The girl is moving at the speed of light.</td>\n",
       "      <td>contradiction</td>\n",
       "      <td>a small girl wearing a pink jacket is riding o...</td>\n",
       "      <td>the girl is moving at the speed of light</td>\n",
       "      <td>2</td>\n",
       "    </tr>\n",
       "    <tr>\n",
       "      <th>9839</th>\n",
       "      <td>A young girl with blue and pink ribbons in her...</td>\n",
       "      <td>People in a water fountain</td>\n",
       "      <td>entailment</td>\n",
       "      <td>a young girl with blue and pink ribbons in her...</td>\n",
       "      <td>people in a water fountain</td>\n",
       "      <td>0</td>\n",
       "    </tr>\n",
       "    <tr>\n",
       "      <th>9840</th>\n",
       "      <td>A young girl with blue and pink ribbons in her...</td>\n",
       "      <td>A young girl knits a sweater</td>\n",
       "      <td>contradiction</td>\n",
       "      <td>a young girl with blue and pink ribbons in her...</td>\n",
       "      <td>a young girl knits a sweater</td>\n",
       "      <td>2</td>\n",
       "    </tr>\n",
       "    <tr>\n",
       "      <th>9841</th>\n",
       "      <td>A young girl with blue and pink ribbons in her...</td>\n",
       "      <td>A young mother tries to grab her topless child...</td>\n",
       "      <td>neutral</td>\n",
       "      <td>a young girl with blue and pink ribbons in her...</td>\n",
       "      <td>a young mother tries to grab her topless child...</td>\n",
       "      <td>1</td>\n",
       "    </tr>\n",
       "  </tbody>\n",
       "</table>\n",
       "<p>9842 rows × 6 columns</p>\n",
       "</div>"
      ],
      "text/plain": [
       "                                                premise  \\\n",
       "0     Two women are embracing while holding to go pa...   \n",
       "1     Two women are embracing while holding to go pa...   \n",
       "2     Two women are embracing while holding to go pa...   \n",
       "3     Two young children in blue jerseys, one with t...   \n",
       "4     Two young children in blue jerseys, one with t...   \n",
       "...                                                 ...   \n",
       "9837  A small girl wearing a pink jacket is riding o...   \n",
       "9838  A small girl wearing a pink jacket is riding o...   \n",
       "9839  A young girl with blue and pink ribbons in her...   \n",
       "9840  A young girl with blue and pink ribbons in her...   \n",
       "9841  A young girl with blue and pink ribbons in her...   \n",
       "\n",
       "                                             hypothesis          label  \\\n",
       "0     The sisters are hugging goodbye while holding ...        neutral   \n",
       "1                       Two woman are holding packages.     entailment   \n",
       "2                  The men are fighting outside a deli.  contradiction   \n",
       "3        Two kids in numbered jerseys wash their hands.     entailment   \n",
       "4              Two kids at a ballgame wash their hands.        neutral   \n",
       "...                                                 ...            ...   \n",
       "9837                            The carousel is moving.     entailment   \n",
       "9838          The girl is moving at the speed of light.  contradiction   \n",
       "9839                         People in a water fountain     entailment   \n",
       "9840                       A young girl knits a sweater  contradiction   \n",
       "9841  A young mother tries to grab her topless child...        neutral   \n",
       "\n",
       "                                          premise_clean  \\\n",
       "0     two women are embracing while holding to go pa...   \n",
       "1     two women are embracing while holding to go pa...   \n",
       "2     two women are embracing while holding to go pa...   \n",
       "3     two young children in blue jerseys one with th...   \n",
       "4     two young children in blue jerseys one with th...   \n",
       "...                                                 ...   \n",
       "9837  a small girl wearing a pink jacket is riding o...   \n",
       "9838  a small girl wearing a pink jacket is riding o...   \n",
       "9839  a young girl with blue and pink ribbons in her...   \n",
       "9840  a young girl with blue and pink ribbons in her...   \n",
       "9841  a young girl with blue and pink ribbons in her...   \n",
       "\n",
       "                                       hypothesis_clean  label_index  \n",
       "0     the sisters are hugging goodbye while holding ...            1  \n",
       "1                        two woman are holding packages            0  \n",
       "2                   the men are fighting outside a deli            2  \n",
       "3         two kids in numbered jerseys wash their hands            0  \n",
       "4               two kids at a ballgame wash their hands            1  \n",
       "...                                                 ...          ...  \n",
       "9837                             the carousel is moving            0  \n",
       "9838           the girl is moving at the speed of light            2  \n",
       "9839                         people in a water fountain            0  \n",
       "9840                       a young girl knits a sweater            2  \n",
       "9841  a young mother tries to grab her topless child...            1  \n",
       "\n",
       "[9842 rows x 6 columns]"
      ]
     },
     "execution_count": 11,
     "metadata": {},
     "output_type": "execute_result"
    }
   ],
   "source": [
    "val_df"
   ]
  },
  {
   "cell_type": "markdown",
   "id": "prescribed-marking",
   "metadata": {},
   "source": [
    "### 4. Label Distribution\n",
    "From the below plots, it is observed that the labels are not equal in frequencies for all the sets. Despite this, the models will still be able to recognise each class at a fair rate since the frequencies aren't extremely different. It is assumed that results shown on the SNLI board made use of the full imbalanced dataset and so, data stratification will not be applied."
   ]
  },
  {
   "cell_type": "code",
   "execution_count": 12,
   "id": "blocked-joseph",
   "metadata": {},
   "outputs": [
    {
     "name": "stdout",
     "output_type": "stream",
     "text": [
      "entailment       183416\n",
      "contradiction    183187\n",
      "neutral          182764\n",
      "Name: label, dtype: int64\n"
     ]
    },
    {
     "data": {
      "image/png": "[encoded data removed]",
      "text/plain": [
       "<Figure size 432x288 with 1 Axes>"
      ]
     },
     "metadata": {
      "needs_background": "light"
     },
     "output_type": "display_data"
    }
   ],
   "source": [
    "print(train_df['label'].value_counts())\n",
    "\n",
    "fig, ax = plt.subplots()\n",
    "fig.suptitle(\"Training Labels\", fontsize=14)\n",
    "train_df[\"label\"].reset_index().groupby(\"label\").count().sort_values(by=\"index\").plot(kind=\"barh\", legend=False, ax=ax).grid(axis='x')\n",
    "plt.show()"
   ]
  },
  {
   "cell_type": "code",
   "execution_count": 13,
   "id": "racial-tunnel",
   "metadata": {
    "scrolled": true
   },
   "outputs": [
    {
     "name": "stdout",
     "output_type": "stream",
     "text": [
      "entailment       3329\n",
      "contradiction    3278\n",
      "neutral          3235\n",
      "Name: label, dtype: int64\n"
     ]
    },
    {
     "data": {
      "image/png": "[encoded data removed]",
      "text/plain": [
       "<Figure size 432x288 with 1 Axes>"
      ]
     },
     "metadata": {
      "needs_background": "light"
     },
     "output_type": "display_data"
    }
   ],
   "source": [
    "print(val_df['label'].value_counts())\n",
    "\n",
    "fig, ax = plt.subplots()\n",
    "fig.suptitle(\"Validation Labels\", fontsize=14)\n",
    "val_df[\"label\"].reset_index().groupby(\"label\").count().sort_values(by=\"index\").plot(kind=\"barh\", legend=False, ax=ax).grid(axis='x')\n",
    "plt.show()"
   ]
  },
  {
   "cell_type": "code",
   "execution_count": 14,
   "id": "liked-platform",
   "metadata": {},
   "outputs": [
    {
     "name": "stdout",
     "output_type": "stream",
     "text": [
      "entailment       3368\n",
      "contradiction    3237\n",
      "neutral          3219\n",
      "Name: label, dtype: int64\n"
     ]
    },
    {
     "data": {
      "image/png": "[encoded data removed]",
      "text/plain": [
       "<Figure size 432x288 with 1 Axes>"
      ]
     },
     "metadata": {
      "needs_background": "light"
     },
     "output_type": "display_data"
    }
   ],
   "source": [
    "print(test_df['label'].value_counts())\n",
    "\n",
    "fig, ax = plt.subplots()\n",
    "fig.suptitle(\"Test Labels\", fontsize=14)\n",
    "test_df[\"label\"].reset_index().groupby(\"label\").count().sort_values(by=\"index\").plot(kind=\"barh\", legend=False, ax=ax).grid(axis='x')\n",
    "plt.show()"
   ]
  },
  {
   "cell_type": "markdown",
   "id": "second-stress",
   "metadata": {},
   "source": [
    "# 2. Feature Engineering"
   ]
  },
  {
   "cell_type": "markdown",
   "id": "interracial-practitioner",
   "metadata": {},
   "source": [
    "### 1. Tokenize Text"
   ]
  },
  {
   "cell_type": "code",
   "execution_count": 15,
   "id": "aboriginal-mongolia",
   "metadata": {},
   "outputs": [],
   "source": [
    "# Tokenize text\n",
    "all_train_text = list(train_df['premise_clean']) + list(train_df['hypothesis_clean']) + list(val_df['premise_clean']) + list(val_df['hypothesis_clean'])\n",
    "\n",
    "tokenizer = preprocessing.text.Tokenizer(oov_token=\"OOV\")\n",
    "tokenizer.fit_on_texts(all_train_text)\n",
    "word_index = tokenizer.word_index"
   ]
  },
  {
   "cell_type": "markdown",
   "id": "sealed-guatemala",
   "metadata": {},
   "source": [
    "### 2. Texts to Sequences"
   ]
  },
  {
   "cell_type": "code",
   "execution_count": 16,
   "id": "changed-steps",
   "metadata": {},
   "outputs": [],
   "source": [
    "def texts_to_sequences(texts):\n",
    "    return tokenizer.texts_to_sequences(texts)\n",
    "\n",
    "train_sequence_dict = dict()\n",
    "val_sequence_dict = dict()\n",
    "test_sequence_dict = dict()\n",
    "\n",
    "# Create Train sequences\n",
    "train_sequence_dict['premise'] = texts_to_sequences(train_df['premise_clean'])\n",
    "train_sequence_dict['hypothesis'] = texts_to_sequences(train_df['hypothesis_clean'])\n",
    "\n",
    "# Create Val sequences\n",
    "val_sequence_dict['premise'] = texts_to_sequences(val_df['premise_clean'])\n",
    "val_sequence_dict['hypothesis'] = texts_to_sequences(val_df['hypothesis_clean'])\n",
    "\n",
    "# Create Test sequences\n",
    "test_sequence_dict['premise'] = texts_to_sequences(test_df['premise_clean'])\n",
    "test_sequence_dict['hypothesis'] = texts_to_sequences(test_df['hypothesis_clean'])"
   ]
  },
  {
   "cell_type": "markdown",
   "id": "incredible-sponsorship",
   "metadata": {},
   "source": [
    "### 3. Determination of Max Sequence Length\n",
    "It is required by neural networks that inputs be of the same dimension. Due to this, sequences must be made the same length through a process called padding. In order to identify this length, the longest sequence within the combined train and validation sets will be determined to eliminate information loss when padding."
   ]
  },
  {
   "cell_type": "code",
   "execution_count": 17,
   "id": "conceptual-ranch",
   "metadata": {},
   "outputs": [
    {
     "name": "stdout",
     "output_type": "stream",
     "text": [
      "Number of words in longest sentence:  78\n"
     ]
    }
   ],
   "source": [
    "def determine_longest_sequence():\n",
    "    longest_sentence = []\n",
    "    sentences = train_sequence_dict['premise']+train_sequence_dict['hypothesis']+val_sequence_dict['premise']+val_sequence_dict['hypothesis']\n",
    "    \n",
    "    for sentence in sentences:\n",
    "        if len(sentence) > len(longest_sentence):\n",
    "            longest_sentence = sentence\n",
    "            \n",
    "    return longest_sentence\n",
    "\n",
    "longest_sentence = determine_longest_sequence()\n",
    "max_sequence_len = len(longest_sentence)\n",
    "print(\"Number of words in longest sentence: \",max_sequence_len)"
   ]
  },
  {
   "cell_type": "markdown",
   "id": "alert-torture",
   "metadata": {},
   "source": [
    "### 4. Pad Sequences"
   ]
  },
  {
   "cell_type": "code",
   "execution_count": 18,
   "id": "closed-control",
   "metadata": {},
   "outputs": [],
   "source": [
    "def pad_sequences(sequences, maxlen):\n",
    "    return preprocessing.sequence.pad_sequences(sequences, maxlen=maxlen, padding=\"post\", truncating=\"post\")"
   ]
  },
  {
   "cell_type": "code",
   "execution_count": 19,
   "id": "enhanced-transcript",
   "metadata": {},
   "outputs": [],
   "source": [
    "# Pad Test Sequences\n",
    "test_sequence_dict['premise_padded'] = pad_sequences(test_sequence_dict['premise'], maxlen=max_sequence_len)\n",
    "test_sequence_dict['hypothesis_padded'] = pad_sequences(test_sequence_dict['hypothesis'], maxlen=max_sequence_len)\n",
    "\n",
    "# Pad Train Sequences\n",
    "train_sequence_dict['premise_padded'] = pad_sequences(train_sequence_dict['premise'], maxlen=max_sequence_len)\n",
    "train_sequence_dict['hypothesis_padded'] = pad_sequences(train_sequence_dict['hypothesis'], maxlen=max_sequence_len)\n",
    "\n",
    "# Pad Val Sequences\n",
    "val_sequence_dict['premise_padded'] = pad_sequences(val_sequence_dict['premise'], maxlen=max_sequence_len)\n",
    "val_sequence_dict['hypothesis_padded'] = pad_sequences(val_sequence_dict['hypothesis'], maxlen=max_sequence_len)"
   ]
  },
  {
   "cell_type": "code",
   "execution_count": 20,
   "id": "hired-mineral",
   "metadata": {},
   "outputs": [
    {
     "data": {
      "image/png": "[encoded data removed]",
      "text/plain": [
       "<Figure size 432x288 with 1 Axes>"
      ]
     },
     "metadata": {
      "needs_background": "light"
     },
     "output_type": "display_data"
    },
    {
     "data": {
      "image/png": "[encoded data removed]",
      "text/plain": [
       "<Figure size 432x288 with 1 Axes>"
      ]
     },
     "metadata": {
      "needs_background": "light"
     },
     "output_type": "display_data"
    },
    {
     "data": {
      "image/png": "[encoded data removed]",
      "text/plain": [
       "<Figure size 432x288 with 1 Axes>"
      ]
     },
     "metadata": {
      "needs_background": "light"
     },
     "output_type": "display_data"
    }
   ],
   "source": [
    "ax = plt.axes()\n",
    "sns.heatmap(train_sequence_dict['premise_padded']==0, vmin=0, vmax=1, cbar=False)\n",
    "ax.set_title('Training Premise Sequences')\n",
    "plt.show()\n",
    "\n",
    "ax = plt.axes()\n",
    "sns.heatmap(val_sequence_dict['premise_padded']==0, vmin=0, vmax=1, cbar=False)\n",
    "ax.set_title('Validation Premise Sequences')\n",
    "plt.show()\n",
    "\n",
    "ax = plt.axes()\n",
    "sns.heatmap(test_sequence_dict['premise_padded']==0, vmin=0, vmax=1, cbar=False)\n",
    "ax.set_title('Test Premise Sequences')\n",
    "plt.show()"
   ]
  },
  {
   "cell_type": "markdown",
   "id": "double-wireless",
   "metadata": {},
   "source": [
    "As previously described, max length for padding was set to be equal to the max sentence length. The downside to this approach however could be seen in the above plots above. As shown, by specifing a large length, most sequence vectors were made very sparse. Although the amount of padding doesn't effect Neural Network results, computational resources are still wasted to compute these, contributing to longer training times. Therefore, the fixed length was set to a 50 instead of the max 78 which reduces the padded sequences by 28 words. Even though information is lost within the longer sequences, these occurrences are of great minority and shouldn't affect results that much. "
   ]
  },
  {
   "cell_type": "code",
   "execution_count": 21,
   "id": "historic-participant",
   "metadata": {},
   "outputs": [],
   "source": [
    "max_sequence_len = 50"
   ]
  },
  {
   "cell_type": "code",
   "execution_count": 22,
   "id": "premier-israel",
   "metadata": {},
   "outputs": [],
   "source": [
    "# Pad Test Sequences\n",
    "test_sequence_dict['premise_padded'] = pad_sequences(test_sequence_dict['premise'], maxlen=max_sequence_len)\n",
    "test_sequence_dict['hypothesis_padded'] = pad_sequences(test_sequence_dict['hypothesis'], maxlen=max_sequence_len)\n",
    "\n",
    "# Pad Train Sequences\n",
    "train_sequence_dict['premise_padded'] = pad_sequences(train_sequence_dict['premise'], maxlen=max_sequence_len)\n",
    "train_sequence_dict['hypothesis_padded'] = pad_sequences(train_sequence_dict['hypothesis'], maxlen=max_sequence_len)\n",
    "\n",
    "# Pad Val Sequences\n",
    "val_sequence_dict['premise_padded'] = pad_sequences(val_sequence_dict['premise'], maxlen=max_sequence_len)\n",
    "val_sequence_dict['hypothesis_padded'] = pad_sequences(val_sequence_dict['hypothesis'], maxlen=max_sequence_len)"
   ]
  },
  {
   "cell_type": "code",
   "execution_count": 23,
   "id": "korean-indiana",
   "metadata": {},
   "outputs": [
    {
     "data": {
      "image/png": "[encoded data removed]",
      "text/plain": [
       "<Figure size 432x288 with 1 Axes>"
      ]
     },
     "metadata": {
      "needs_background": "light"
     },
     "output_type": "display_data"
    },
    {
     "data": {
      "image/png": "[encoded data removed]",
      "text/plain": [
       "<Figure size 432x288 with 1 Axes>"
      ]
     },
     "metadata": {
      "needs_background": "light"
     },
     "output_type": "display_data"
    },
    {
     "data": {
      "image/png": "[encoded data removed]",
      "text/plain": [
       "<Figure size 432x288 with 1 Axes>"
      ]
     },
     "metadata": {
      "needs_background": "light"
     },
     "output_type": "display_data"
    }
   ],
   "source": [
    "ax = plt.axes()\n",
    "sns.heatmap(train_sequence_dict['premise_padded']==0, vmin=0, vmax=1, cbar=False)\n",
    "ax.set_title('Training Premise Sequences')\n",
    "plt.show()\n",
    "\n",
    "ax = plt.axes()\n",
    "sns.heatmap(val_sequence_dict['premise_padded']==0, vmin=0, vmax=1, cbar=False)\n",
    "ax.set_title('Validation Premise Sequences')\n",
    "plt.show()\n",
    "\n",
    "ax = plt.axes()\n",
    "sns.heatmap(test_sequence_dict['premise_padded']==0, vmin=0, vmax=1, cbar=False)\n",
    "ax.set_title('Test Premise Sequences')\n",
    "plt.show()"
   ]
  },
  {
   "cell_type": "code",
   "execution_count": null,
   "id": "liquid-cambodia",
   "metadata": {},
   "outputs": [],
   "source": []
  }
 ],
 "metadata": {
  "kernelspec": {
   "display_name": "Python 3",
   "language": "python",
   "name": "python3"
  },
  "language_info": {
   "codemirror_mode": {
    "name": "ipython",
    "version": 3
   },
   "file_extension": ".py",
   "mimetype": "text/x-python",
   "name": "python",
   "nbconvert_exporter": "python",
   "pygments_lexer": "ipython3",
   "version": "3.6.12"
  }
 },
 "nbformat": 4,
 "nbformat_minor": 5
}
